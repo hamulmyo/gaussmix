{
 "cells": [
  {
   "cell_type": "code",
   "execution_count": null,
   "metadata": {
    "collapsed": true
   },
   "outputs": [],
   "source": [
    "# Call some package\n",
    "using Ipopt, JuMP, PyPlot, RCall\n",
    "\n",
    "# Set a working directory\n",
    "\n",
    "cd(\"$(homedir())/Desktop/git/mixopt\")\n",
    "\n",
    "# vanilla primal ipopt\n",
    "\n",
    "function vanilla_ipopt(L)\n",
    "    n = size(L,1); k = size(L,2);\n",
    "    m = Model(solver=IpoptSolver(print_level=0));\n",
    "    @variable(m, x[1:k], start = 1/k);\n",
    "    @NLobjective(m, Min, -sum(log(sum(L[i,j]*x[j] for j=1:k)) for i=1:n));\n",
    "    @constraint(m, sum(x) == 1);\n",
    "    @constraint(m, x.>= 0);\n",
    "    solve(m);\n",
    "    return getvalue(x)\n",
    "end\n",
    "\n",
    "# line search sequential quadratic programming for primal\n",
    "\n",
    "function ls_sqp(L)\n",
    "    n = size(L,1); k = size(L,2);\n",
    "    iter = 20;\n",
    "    tol = 1e-2;\n",
    "    x = ones(k)/k;\n",
    "    for i = 1:iter\n",
    "        # gradient and Hessian computation\n",
    "        Z = Diagonal(1./(L*x)) * L;\n",
    "        g = -Z'*ones(n);\n",
    "        H = Z'*Z;\n",
    "        \n",
    "        # define a subproblem\n",
    "        m = Model(solver=IpoptSolver(print_level = 0));\n",
    "        @variable(m, p[1:k]);\n",
    "        @objective(m, Min, sum(0.5*p[i]*H[i,j]*p[j] for i = 1:k, j = 1:k )+sum(g[i]*p[i] for i = 1:k));\n",
    "        @constraint(m, ec, sum(p[i] for i = 1:k) == 0); ## p is only in the simplex\n",
    "        @constraint(m, ic, p+x .>= 0);                                    \n",
    "        solve(m);\n",
    "                                        \n",
    "        # convergence check - By KKT\n",
    "        if norm(g - getdual(ic) - getdual(ec),Inf) < tol\n",
    "            break;\n",
    "        end\n",
    "                                        \n",
    "        # otherwise do update               \n",
    "        x = abs(getvalue(p)+x); # make sure x is positive\n",
    "        x = x/sum(x) # renormalize           \n",
    "    end\n",
    "    return x\n",
    "end\n",
    "\n",
    "# function evaluation\n",
    "\n",
    "function eval_f(x) \n",
    "  return -sum(log(L*x))\n",
    "end"
   ]
  }
 ],
 "metadata": {
  "kernelspec": {
   "display_name": "Julia 0.5.1",
   "language": "julia",
   "name": "julia-0.5"
  },
  "language_info": {
   "file_extension": ".jl",
   "mimetype": "application/julia",
   "name": "julia",
   "version": "0.5.1"
  }
 },
 "nbformat": 4,
 "nbformat_minor": 2
}
